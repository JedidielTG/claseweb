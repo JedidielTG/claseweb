{
  "nbformat": 4,
  "nbformat_minor": 0,
  "metadata": {
    "colab": {
      "provenance": [],
      "authorship_tag": "ABX9TyMKBFQ37MBE8uvrsfuD6GJ1",
      "include_colab_link": true
    },
    "kernelspec": {
      "name": "python3",
      "display_name": "Python 3"
    },
    "language_info": {
      "name": "python"
    }
  },
  "cells": [
    {
      "cell_type": "markdown",
      "metadata": {
        "id": "view-in-github",
        "colab_type": "text"
      },
      "source": [
        "<a href=\"https://colab.research.google.com/github/JedidielTG/claseweb/blob/main/Programa%20de%20orden%20de%20numero.ipynb\" target=\"_parent\"><img src=\"https://colab.research.google.com/assets/colab-badge.svg\" alt=\"Open In Colab\"/></a>"
      ]
    },
    {
      "cell_type": "code",
      "source": [
        "def ordenar_lista(lista):\n",
        "    return sorted(lista)\n",
        "\n",
        "def main():\n",
        "    # Autenticación\n",
        "    usuario = input(\"Usuario: \")\n",
        "    contrasena = input(\"Contraseña: \")\n",
        "\n",
        "    if usuario == \"toto\" and contrasena == \"1234\":\n",
        "        print(f\"Bienvenido,{usuario}.\")\n",
        "        try:\n",
        "            print(\"Si ingresas alguna letra el sistema lo ignorara.\")\n",
        "            print(\"Puedes ingresar numeros decimales utilizando punto copmo caracter de division.\")\n",
        "            entrada = input(\"Ingrese una lista de números separados por espacio: \")\n",
        "            letras = entrada.split()\n",
        "            numeros = []\n",
        "\n",
        "            for letra in letras:\n",
        "                try:\n",
        "                    numero = float(letra)\n",
        "                    if numero.is_integer():\n",
        "                        numeros.append(int(numero))\n",
        "                    else:\n",
        "                        numeros.append(numero)\n",
        "                except ValueError:\n",
        "                    print(f\"Error: '{letra}' no es un número y será ignorado.\")\n",
        "\n",
        "            if numeros:\n",
        "                lista_ordenada = ordenar_lista(numeros)\n",
        "                print(\"Lista ordenada: \", lista_ordenada)\n",
        "            else:\n",
        "                print(\"No se encontraron números válidos en la entrada.\")\n",
        "        except ValueError:\n",
        "            print(\"Error: Ingrese una lista válida de números separados por espacios.\")\n",
        "        except ZeroDivisionError:\n",
        "            print(\"Error: Un numero se esta dividiendo entre cero.\")\n",
        "    else:\n",
        "        print(\"Acceso denegado. Usuario o contraseña incorrectos.\")\n",
        "\n",
        "if __name__ == \"__main__\":\n",
        "    main()\n"
      ],
      "metadata": {
        "colab": {
          "base_uri": "https://localhost:8080/"
        },
        "id": "mtUIoOS8rNKi",
        "outputId": "3b77a0cc-5e2f-4e6e-b057-601927ece97e"
      },
      "execution_count": 14,
      "outputs": [
        {
          "output_type": "stream",
          "name": "stdout",
          "text": [
            "Usuario: toto\n",
            "Contraseña: 1234\n",
            "Bienvenido, toto.\n",
            "Si ingresas alguna letra el sintema lo ignorara.\n",
            "Puedes ingresar numeros decimales.\n",
            "Ingrese una lista de números separados por espacio: a d as 2 3 4 5 6 4.6 4.9 10 0,1\n",
            "Error: 'a' no es un número y será ignorado.\n",
            "Error: 'd' no es un número y será ignorado.\n",
            "Error: 'as' no es un número y será ignorado.\n",
            "Error: '0,1' no es un número y será ignorado.\n",
            "Lista ordenada:  [2, 3, 4, 4.6, 4.9, 5, 6, 10]\n"
          ]
        }
      ]
    }
  ]
}